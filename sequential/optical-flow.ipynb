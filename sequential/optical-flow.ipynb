{
 "cells": [
  {
   "cell_type": "code",
   "execution_count": 2,
   "metadata": {},
   "outputs": [],
   "source": [
    "import numpy as np"
   ]
  },
  {
   "cell_type": "code",
   "execution_count": null,
   "metadata": {},
   "outputs": [],
   "source": [
    "class PatchMatchOpticalFlow:\n",
    "    def __init__(self, patch_size) -> None:\n",
    "        self.patch_size = patch_size\n",
    "        self.half_size = self.patch_size // 2\n",
    "    \n",
    "    def flow(self, im1, im2, n_iters=6):\n",
    "        assert im1.shape == im2.shape\n",
    "        width, height, _ = im1.shape\n",
    "\n",
    "        shift_map = np.zeros((width, height, 2))\n",
    "        \n",
    "        checkerboard_indices = {\n",
    "            0: ([0, height, 2], [0, width, 2]),\n",
    "            1: ([1, height, 2], [1, width, 2])\n",
    "        }\n",
    "\n",
    "        for k in range(n_iters):\n",
    "            row_range, col_range = checkerboard_indices[k % 2]\n",
    "\n",
    "            for i in range(*row_range):\n",
    "                for j in range(*col_range):\n",
    "                    "
   ]
  }
 ],
 "metadata": {
  "kernelspec": {
   "display_name": "pyenv",
   "language": "python",
   "name": "python3"
  },
  "language_info": {
   "codemirror_mode": {
    "name": "ipython",
    "version": 3
   },
   "file_extension": ".py",
   "mimetype": "text/x-python",
   "name": "python",
   "nbconvert_exporter": "python",
   "pygments_lexer": "ipython3",
   "version": "3.9.6"
  }
 },
 "nbformat": 4,
 "nbformat_minor": 2
}
