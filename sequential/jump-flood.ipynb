{
 "cells": [
  {
   "cell_type": "code",
   "execution_count": 1,
   "metadata": {},
   "outputs": [],
   "source": [
    "import numpy as np\n",
    "import matplotlib.pyplot as plt\n",
    "import matplotlib.patches as patches\n",
    "from matplotlib.animation import FuncAnimation\n",
    "from PIL import Image\n",
    "from tqdm import tqdm\n",
    "from scipy.signal import correlate2d\n",
    "import cv2\n",
    "from scipy import ndimage, datasets\n",
    "import time\n",
    "from scipy.interpolate import griddata\n",
    "\n",
    "np.set_printoptions(precision=2)"
   ]
  },
  {
   "cell_type": "code",
   "execution_count": 7,
   "metadata": {},
   "outputs": [],
   "source": [
    "height, width = 256, 256\n",
    "n_pts = 10\n",
    "\n",
    "def in_bounds(r, c):\n",
    "    return 0 <= r < height and 0 <= c < width\n",
    "\n",
    "colors = [int(255 * n / n_pts) for n in range(n_pts)]\n",
    "point_centers = [None for _ in range(n_pts)]\n",
    "\n",
    "voronoi = -1 * np.ones((height, width))\n",
    "seeds = np.empty((height, width, 2))\n",
    "\n",
    "for i in range(n_pts):\n",
    "    x, y = np.random.randint(0, height - 1, 2)\n",
    "    while voronoi[y, x] > 0:\n",
    "        x, y = np.random.randint(0, height - 1, 2)\n",
    "\n",
    "    voronoi[y, x] = colors[i]\n",
    "    seeds[y, x] = [y, x]\n",
    "\n",
    "    point_centers[i] = (y, x)"
   ]
  },
  {
   "cell_type": "code",
   "execution_count": 8,
   "metadata": {},
   "outputs": [
    {
     "name": "stdout",
     "output_type": "stream",
     "text": [
      "Step sizes: [256, 128, 64, 32, 16, 8, 4, 2, 1, 2, 1]\n"
     ]
    }
   ],
   "source": [
    "step_sizes = [height]\n",
    "\n",
    "while step_sizes[-1] > 1:\n",
    "    step_sizes.append(step_sizes[-1] // 2)\n",
    "\n",
    "step_sizes += [2, 1]\n",
    "# step_sizes += step_sizes\n",
    "\n",
    "print(f\"Step sizes: {step_sizes}\")"
   ]
  },
  {
   "cell_type": "code",
   "execution_count": 13,
   "metadata": {},
   "outputs": [
    {
     "name": "stdout",
     "output_type": "stream",
     "text": [
      "Searching k=256....\n",
      "Searching k=128....\n",
      "Searching k=64....\n",
      "Searching k=32....\n",
      "Searching k=16....\n",
      "Searching k=8....\n",
      "Searching k=4....\n",
      "Searching k=2....\n",
      "Searching k=1....\n",
      "Searching k=2....\n",
      "Searching k=1....\n"
     ]
    }
   ],
   "source": [
    "def dist(p, q):\n",
    "    return np.linalg.norm(q - p)\n",
    "\n",
    "for k in range(len(step_sizes)):\n",
    "    new_voronoi = voronoi.copy()\n",
    "    new_seeds = seeds.copy()\n",
    "\n",
    "    l = step_sizes[k]\n",
    "    print(f\"Searching k={l}....\")\n",
    "\n",
    "    for r in range(height):\n",
    "        for c in range(width):\n",
    "            # Iterate over 8 neighbors\n",
    "            offsets = [-l, 0, l]\n",
    "            for dr in offsets:\n",
    "                for dc in offsets:\n",
    "                    rr = r + dr\n",
    "                    cc = c + dc\n",
    "\n",
    "                    if not in_bounds(rr, cc): continue\n",
    "\n",
    "                    if voronoi[r, c] < 0 and voronoi[rr, cc] >= 0:\n",
    "                        new_voronoi[r, c] = new_voronoi[rr, cc]\n",
    "                        new_seeds[r, c] = new_seeds[rr, cc]\n",
    "                    elif voronoi[r, c] >= 0 and voronoi[rr, cc] >= 0:\n",
    "                        if dist((r, c), seeds[r, c]) > dist((r, c), seeds[rr, cc]):\n",
    "                            new_voronoi[r, c] = new_voronoi[rr, cc]\n",
    "                            new_seeds[r, c] = new_seeds[rr, cc]\n",
    "\n",
    "    voronoi, new_voronoi = new_voronoi, voronoi\n",
    "    seeds, new_seeds = new_seeds, seeds\n"
   ]
  },
  {
   "cell_type": "code",
   "execution_count": 14,
   "metadata": {},
   "outputs": [
    {
     "data": {
      "image/png": "[encoded data removed]",
      "text/plain": [
       "<Figure size 640x480 with 1 Axes>"
      ]
     },
     "metadata": {},
     "output_type": "display_data"
    }
   ],
   "source": [
    "plt.imshow(voronoi)\n",
    "plt.title(\"Voronoi Diagram\")\n",
    "plt.show()"
   ]
  },
  {
   "cell_type": "code",
   "execution_count": null,
   "metadata": {},
   "outputs": [],
   "source": []
  }
 ],
 "metadata": {
  "kernelspec": {
   "display_name": "pyenv",
   "language": "python",
   "name": "python3"
  },
  "language_info": {
   "codemirror_mode": {
    "name": "ipython",
    "version": 3
   },
   "file_extension": ".py",
   "mimetype": "text/x-python",
   "name": "python",
   "nbconvert_exporter": "python",
   "pygments_lexer": "ipython3",
   "version": "3.9.6"
  }
 },
 "nbformat": 4,
 "nbformat_minor": 2
}
